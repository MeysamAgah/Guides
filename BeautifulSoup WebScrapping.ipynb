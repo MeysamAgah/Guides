{
  "nbformat": 4,
  "nbformat_minor": 0,
  "metadata": {
    "colab": {
      "provenance": []
    },
    "kernelspec": {
      "name": "python3",
      "display_name": "Python 3"
    },
    "language_info": {
      "name": "python"
    }
  },
  "cells": [
    {
      "cell_type": "code",
      "execution_count": 1,
      "metadata": {
        "id": "72bujkzAxBST"
      },
      "outputs": [],
      "source": [
        "# import necessary modules\n",
        "import pandas as pd\n",
        "import requests\n",
        "from bs4 import BeautifulSoup"
      ]
    },
    {
      "cell_type": "code",
      "source": [
        "url = 'https://www.metacritic.com/game/elden-ring/user-reviews/?platform=playstation-5'"
      ],
      "metadata": {
        "id": "rWq-d3yqxPCU"
      },
      "execution_count": 2,
      "outputs": []
    },
    {
      "cell_type": "code",
      "source": [
        "user_agent = {'User-agent': 'Mozilla/5.0'}"
      ],
      "metadata": {
        "id": "Vf4-M3A63iI5"
      },
      "execution_count": 3,
      "outputs": []
    },
    {
      "cell_type": "code",
      "source": [
        "response = requests.get(url, headers=user_agent)"
      ],
      "metadata": {
        "id": "3BZqlvY58HsC"
      },
      "execution_count": 4,
      "outputs": []
    },
    {
      "cell_type": "code",
      "source": [
        "response.status_code"
      ],
      "metadata": {
        "id": "l2SVbwSY8No9",
        "colab": {
          "base_uri": "https://localhost:8080/"
        },
        "outputId": "3795fb70-c61a-4478-8009-edc702699a16"
      },
      "execution_count": 5,
      "outputs": [
        {
          "output_type": "execute_result",
          "data": {
            "text/plain": [
              "200"
            ]
          },
          "metadata": {},
          "execution_count": 5
        }
      ]
    },
    {
      "cell_type": "code",
      "source": [
        "soup = BeautifulSoup(response.text, 'html.parser')"
      ],
      "metadata": {
        "id": "SlezWaGg8PcL"
      },
      "execution_count": 6,
      "outputs": []
    },
    {
      "cell_type": "code",
      "source": [
        "split_by_quote = str(soup).split('quote:')[1:]"
      ],
      "metadata": {
        "id": "BEeE9l4sxoAN"
      },
      "execution_count": 10,
      "outputs": []
    },
    {
      "cell_type": "code",
      "source": [
        "reviews = []\n",
        "for q in split_by_quote:\n",
        "    review = q.split('\"')[1]\n",
        "    reviews.append(review)"
      ],
      "metadata": {
        "id": "58OzMCGSx5fC"
      },
      "execution_count": 12,
      "outputs": []
    },
    {
      "cell_type": "code",
      "source": [
        "reviews"
      ],
      "metadata": {
        "colab": {
          "base_uri": "https://localhost:8080/"
        },
        "id": "-DSrcMMSyLVG",
        "outputId": "75fd8bb9-6760-48cc-d90b-8e7f41b4e896"
      },
      "execution_count": 13,
      "outputs": [
        {
          "output_type": "execute_result",
          "data": {
            "text/plain": [
              "['Es un juego mundo abierto y es el mejor soul\\\\n Jajajajjajajajajajajaajajjaajajajjaajjajajajajajajajajajajjaajajjajajajajaajaj',\n",
              " \"I can't understand those who say 2022 god of war was right. God of war is never a bad game but it is very faithful to its essence. Elden ring is a game that feels both innovative and great.\",\n",
              " \"The first souls game ever that I had the nerves and energy to finish. It's not bad, that's for sure. But like all the souls games it is insanely overhyped in my opinion. For a 10\\\\u002F10 open world game there are too many things missing. There might be a story, but after 60 hours of play time I have pretty much no idea of what was happening other than me becoming the \\\\\",\n",
              " 'Phenomenal, the world is so big and there are so much to explore and endure, but the reward is always (like every soulslike) the biggest satisfaction.',\n",
              " \"Graphics gameplay story all are great and i got the game for cheap and it's worth more.\",\n",
              " 'Got this game to play with friends, but the multiplayer allowed players to invade into your multiplayer and attack you. If I wanted a pvp game would have gotten one specially for that. As a single player its a good game but for multiplayer it total trash.',\n",
              " 'Masterpiece game, bad FPS on PS5. Unplayable if you played it on PC and are used to a certain FPS quality smoothness.',\n",
              " 'Masterpiece! Easily one of the most enjoyable games to be created In the past decade fore sure!',\n",
              " 'One of the best games, if not the best, in the Souls genre. Captivating and enigmatic story, by far an adventure that will remain with me. Varieties of incredible builds and bosses. The best.',\n",
              " 'Atmosphäre, Waffenvielfalt, build Möglichkeit, Spielwelt, alles wirklich super. Mein Einstieg in Souls Spiele',\n",
              " \"This is the most disgustingly overrated game I've played in 25 years of gaming. It's a janky, dated, uninspired dark souls rip off - there are 10,000,000 games identical to this. The only reason anyone likes this is because Elon Musk told them to. It's a pointless, boring, poorly made, the graphics looks straight out of 2012 and the combat feels like **** compared to other dark souls rip offs like Wu Kong.\",\n",
              " 'Elden Ring carries the \\\\',\n",
              " \"Un des mes jeux préférés. Je l'ai fait à plusieurs reprises. L'œuvre de Miyazaki nous plonge dans un jeux vidéos riches sur tout les plans. Tout d'abord, on peut citer la bande-son qui est subliminal, on peut notamment faire référence à l'OST du combat de radahn, radagon ou encore Godfrey. De même,Hidetaka Miyazaki expose ici aux joueurs un lore énorme composé d'un nombre incalculable de détails, comme le passé de l'univers avec les Dragons-Anciens et Placidusax le seigneur des dragons. On apprend une immensité de chose à travers le lore comme l'assassinat de Godwyn commit par Ranni, l'histoire de Vyke, les malédiction des 3 enfants issus de Marika et Radagon. Bref, tout ce que j'ai cité ne définit même pas 1% du lore. Aussi, le gameplay est très bien gérer pour le joueur, la manière dont le jeu force l'apprentissage des paternes en créer une satisfaction, de même on peut compter un nombre incalculable d'armes, de sorts et pleins d'autres mécaniques. La manière dont les combats sont fait génère un dynamisme de gameplay. Les quêtes sont multiples et intéressantes mais assez mal guidés, mais cela fait partie de l'essence même des souls. Les graphismes sont pas révolutionnaire mais celle-ci est en cohésion avec le design du jeu qui en fait de lui un jeu magnifique. En autre, Elden Ring possède un nombre incalculable de points positifs qui prendrait un temps fou à citer. Une expérience à vivre.\",\n",
              " \"TLDR: Yes the game is amazing, with epic fights, a larger scale to its story and with really tough endgame bosses!This game is everything fans loved about the series but brought to the open world. The combat feels as good as ever, with quick responses to your inputs and nice flow and feeling of weight overall. With a variety of classes to choose from, and playstyles that suit every player this game can be as easy or as hard as you want it to be. From summons to spirit NPC ashes, you can choose whether to fight solo or with an ally. There is one bossfight where I definitely recommend using summons and that's the Godskin Duo. Now on the story side of ****'S MINDBLOWNLINGLY EPIC! Overall it makes you feel like you're rising up to the top becoming stronger and stronger, culminating in an epic final **** the negatives now...Some classes and builds are way better than others, making fights hilariously easy but again that's up to the player. I didn't involve myself in the PVP so no comments on that. A lot of assets are re-used but I kind of expected that in a game as massive as this. Lastly, a lot of the bosses in the late game are really hard, not allowing the player with a window of opportunity for a counter attack and with endgame damage stats, the fights become really hard and are a matter of patience. But overall I don't have anything major to say in regard to the bad aspects of the ****: The music in certain bossfights just gives me chills(Mohg, Lord of Blood cough cough)\",\n",
              " '\\u200fجميلة جدا أتطلع إلى أن العبها إن شاء الله مع إني خائف من صعوبتها وشكرا يعطيكم العافية',\n",
              " \"Um... I ate my words. I previously really talked **** and disliked this game. But it gets really good, like really fun. Just a couple of problems. This game is NOT beginner friendly at all. I had to use guides to mostly play the game which sort of ruined the fun a bit for me, but it wasn't a super bad thing nonetheless. Good game, but improvements can be made.\",\n",
              " \"Elden Ring ist ein Meisterwerk, das die Grenzen des Open-World-Genres neu definiert. FromSoftware hat mit diesem Spiel ein Universum geschaffen, das so lebendig und detailreich ist, dass man sich stundenlang darin verlieren kann. Die Welt ist voller Geheimnisse, die es zu entdecken gilt, und die Lore ist so tiefgründig, dass sie immer wieder neue Interpretationen zulässt.\\\\nDas Spielerlebnis ist herausfordernd, aber fair. Jeder Sieg fühlt sich verdient an und trägt dazu bei, dass man sich mit seiner Spielfigur identifizieren kann. Die Bosskämpfe sind episch und fordern sowohl Geschick als auch Geduld. Elden Ring ist ein Spiel, das sowohl erfahrene Souls-Veteranen als auch Neulinge gleichermaßen begeistern wird.\\\\n\\\\n\\\\nEnglish summary:\\\\nElden Ring is a masterpiece that redefines the open-world genre. FromSoftware has crafted a universe that is so vibrant and detailed that it's easy to lose yourself for hours on end. The world is full of secrets to discover, and the lore is so deep that it allows for endless interpretation.\\\\nThe gameplay is challenging but fair. Every victory feels earned and helps you connect with your character. The boss fights are epic and demand both skill and patience. Elden Ring is a game that will delight both seasoned Souls veterans and newcomers alike.\",\n",
              " \"You will spend 8 hours trying to leave the starting area and never get anywhere. I can honestly say this is the worst game I've ever spent money on and I can't say enough bad things about it.\",\n",
              " 'I really wanted to like this game, but just 5 hours in all I can say is that I regret buying it (although I got it on sale, it still stings).\\\\n\\\\n- Story feels non-existent \\\\n- Atmosphere is depressing\\\\n- No music while you play\\\\n- Progression is super slow\\\\n- Graphics look old\\\\n- Loot drops are 99% garbage\\\\n- Controls and inventory management are poor\\\\n- Crafting is pointless\\\\n- Armour and Weapon upgrades don’t matter\\\\n- Combat is slow and clunky\\\\n- Open world feels empty\\\\n- Game feels hard on purpose to mask that it’s not a fun game\\\\n- Boss fights are fun, but that’s about it\\\\n\\\\nAll you do is go around killing things to save up “Runes” (XP) to cash in for levelling up, and you never actually feel any stronger. I have 5 hours into it, watched a few hours of videos to see if I was “missing something” or “not playing it properly”, and can quite confidently say this game isn’t for me, and I can’t understand why it won GOTY and gets such high review scores. I guess games journalists just don’t represent me any more, given the last few years.',\n",
              " \"There's too much input delay. You'd expect the character to jump exactly when you press the jump button, but unlike any other game, they only start to jump after the button is released. Too bad!\",\n",
              " 'Elden ring has good world design, tons of content, great customization, but really poor boss fights and mini dungeons that weigh it down for a solo player.\\\\n\\\\nIf you enjoyed previous fromsoft games you’ll likely enjoy most of what Elden ring has to offer, especially early on.  The World is just enormous compared to previous titles in terms of space and easily on par in terms of zones.  The combat is very similar with new special moves added to allow for greater variety and speed.\\\\n\\\\nThe zones are generally fun to explore (albeit the size makes the main open world zones tedious).  The legacy dungeons are fun and interesting with branching and puzzles.\\\\n\\\\nBosses are largely just not fun to fight.  They are far too aggressive unless you use multiplayer\\\\u002Fsummons which tend to make them easier than you would like.  This leads to you either spending time waiting out combos to look for a tiny opening window where you don’t have time to use most interesting skills or to hit them while their attention is on someone else.  The latter doesn’t give much satisfaction to many players.\\\\n\\\\nMini dungeons have the same problem as chalice dungeons from blood borne.  They all feel samey and boring with a few exceptions.\\\\n\\\\nNPC quest lines are enjoyable, but difficult to find and follow in the open world.\\\\n\\\\nOverall there’s a lot to enjoy, but I personally feel like the game drags really badly the later you get with boss fights getting more frequent.  Each successive one just wears rather than brings joy. I’ve not gotten this feeling from any other fromsoft title, nor many of the more popular Derivative titles.\\\\n\\\\nIn the end you’ll get your money’s worth of fun and playtime, but may end up with a bitter feeling about it.',\n",
              " 'MASTERPIECE. This is FromSoftwares best game and it’s not even close. Elden Ring offers a huge world all for you to explore, when you explore you may find one of the 414 weapons in the game or one of the 141 different **** Elden Ring there are over 300 bosses and also the most difficult and best designed bosses in fromsoftware history.',\n",
              " 'unfassbares Spiel! Riesen open World, zahlreiche Bossfights, tausende Builds.',\n",
              " 'This game isn’t a master piece like everyone says. It has a few BIG problems. For example your  character moves like in demon souls, yet the bosses move like it’s sekiro. (Which by the way sekiro is objectively THE best fromsoft game. It has a focused and rewarding system (the parry system) along with a new element, the grapple. If I took every fromsoft game and stripped the color from them and put them side by side you would not be able to tell the difference. Except sekiro. now the next problem is the game doesn’t actually improve at all? It seems they spent three years just making the map? Lmao. I was expecting something as unique and as fun as sekiro OR something as refined as lies of p. LoP is also the second best fromsoft game, that’s not made by fromsoft. The only really negative reviews on the game are just saying it’s more of a “refinement not an improvement” or that “they copied fromsoft” and fromsoft copied ninja gaiden. What’s your point? that’s exactly what it is, and it does it extremely well. Lies of p takes Essentially the best thing from every from soft game and puts it in one game. Along with a more understandable story and its own unique theme and gameplay\\\\u002F combat systems. I was expecting far more out of Elden ring yet it falls short unfortunately. I tried playing the game so many times and I really just tried to like it, but it’s simply a literal copy and paste of DS3. That goes for pretty much most fromsoft games. If you have played one fromsoft game, you basically played them all. And unfortunately they are the most toxic players in video games if you try to tell them that they’re buying the same game every year like COD, they will gang up and you and start **** on each other lol. Proof of this is the success of lies of p.  round8 studio made a game far better than pretty much anything put out by fromsoft and the only people hating were fromsoft ****. We all know if from soft put out lies of P they would be praising and **** it off lol. They buy the same game every year. Then turn around and make fun of Ubisoft and Activision….. The irony lol. In Elden ring especially Malenia. she has a certain move set called the waterfall dance or something like that. She and a few others are a perfect example of poorly made game decisions and boss moveset. That certain movement is CLEARLY A copy out of sekiro and meant to be parryied, yet it’s not parryable. They essentially copied boss moves from sekiro, giving bosses, sekiro boss like movement and patterns. while giving the actual player dark souls 1 movement  you see similar problems in one of the most recent call of duty games, And why copying things from other games doesn’t always work. In the newest Mw3 2023 they took over a decade old maps that is designed with positioning and slow movement in mind from the OG mw2 and ported it in a game where you get across the map in literally 4 seconds….. essentially destroying any actually positioning or strongholds on the map. That would be the main fight  locations for players. And this goes for every map. Was really excited, expecting something NEW from fromsoftware like sekiro. Unfortunately this is what we got. Not to mention game looks like a early ps4 game or late ps3 game. The game also plays in 60fps on ps5, but for some reason the game looks like it moves in a choppy 40. Like it’s having microstutters or something. It’s probably their engine as it feels they have been using the same ps3 engine the whole time or something. Overall it’s not a bad game, but realistically it’s a \\\\n7-8\\\\u002F10',\n",
              " 'They say nothing is perfect, well Elden Ring is pretty darn close. This is the greatest game ever made. Not for the weak, only the strong will survive. A beautiful haunting adventure awaits you.',\n",
              " 'A less fun version of Breath of the Wild. World was fun to explore, but the map becomes cluttered really fast. After a couple quests, this game just feels like a chore, with really unbalanced enemies. Sad to put this down, because everyone else seemed to like it.',\n",
              " 'واقعا بی نظیر حرف ندار من که پسندیدم امیدوارم همچین ژانر های بیشتر منتشر بشه',\n",
              " 'After 550 hours i can say its the best videogame ever made. ️️️️️\\\\nSo many ways to play it.',\n",
              " 'Uno de los mejores juegos de todos los tiempos jamás creados, gracias al sr Miyazaki por esta granobra',\n",
              " 'Deserved GOTY for 2022 for sure. It is definitely the best game so far this decade. The hidden story, the addicting gameplay and overall just the mechanics are so good. I love how this game is like Dark Souls but also more adventure-y. The exploring part is my favorite part of this game, if you choose to just explore that one random part of the cave, you might just find an interesting piece of lore about the world of Elden Ring, or if you choose to explore the dungeons that are the catacombs, you will find other interesting pieces about the world. Overall, this game is the best of this decade, next to God of War: Ragnarok. Definitely an 11\\\\u002F10 in my books.',\n",
              " 'You are now experiencing one of things created in mankind, excellence so high that it ascends its niche. Elden Ring holy s tier.',\n",
              " 'DEFINITELY deserved GOTY 2022, and is also one of the best games ever made. FromSoftware for sure knows how to cook. If there was a Game of the decade award, then Elden Ring would probably win it.',\n",
              " 'Absolute Peak game, absolutely deserved 2022 game of the year and has hundreds of hours of gameplay.',\n",
              " 'this game is good and i would give it atleast a 6.5 cause of the beauty of this game the lore aswell the cool diffrent weapons if it hadnt this much propaganda this game is not even close to a masterpiece and this game literally is the definition of propaganda from streamers.Most overrated game of all time',\n",
              " 'Ótimo jogo mundo aberto perfeito, inimigos com designer supriendente só tem 1 ponto negativos alguns Boss são muitos repetidos resumindo um dos melhores jogos de todos os tempos',\n",
              " \"eldenring is by far the best videogame I've played in a very long time and I feel the best from software game ever. The game is most definitely worth your money and the dlc even though it is hard is very fun too.\",\n",
              " 'Il miglior gioco di sempre soprattutto dopo il **** prendere come esempio di come si fa un videogioco.',\n",
              " \"i initially got elden ring from my friend back in january, and like most people i got mad and quit after 1 session. when i redownloaded the game 10 months later,  i gave it a real shot, and i just recently 100% beat the game on steam. this games lore is phenomenal, some of fromsoft's best. i loved my first playthrough so much, i did it 4 more times, and im on ng+5 with the same character with 111 hours of playtime. every ending was great (lord of frenzied flame included) and the questlines to get the individual ones were amazing. my only complaint is you dont get a great sense of direction through the game, with no quest bar or something to indicate where you need to go or who you need to meet. some could argue it adds intrigue to the game, but for me it just made it a bit more confusing. nevertheless, i had a wonderful time with elden ring and if its on sale or you're looking for a challenge, i implore you to buy it\",\n",
              " 'Elden ringwas the missing piece in my puzzle while I had played FromSoftware games before I just couldnt bring myself to like them. Until this masterpiece released it had everything exploration,lore,variety and amazing level and character design. Of course by being an open world game it means that the Tarnished can explore almost every bit of the map making any boss easier by finding just the right gear. Truly my favourite game of all time with a masterful DLC to go with it. Recommend everyone to play it and experience the masterpiece that is Elden Ring',\n",
              " \"I waited long before buying the game and the DLC, I always thoughtit was overrated, and with too much hype around it. I was so incredibly wrong, that's by far the best game I have ever played, insane world build, amazing and challenging enemies, incredible weapons, armours, spells, and NPCs' interactions. 10\\\\u002F10\",\n",
              " 'Após concluir e platinar Elden Ring, posso afirmar com convicção que este é, sem dúvida, um dos melhores jogos que já tive a oportunidade de jogar. Elden Ring transcendeu minhas expectativas, especialmente ao demonstrar como uma história pode ser narrada de maneira envolvente mesmo quando não é apresentada de forma convencional. A integração entre narrativa e cenários, seja no aspecto visual ou temático, impacta diretamente a experiência de jogo, elevando-a a um nível excepcional. Cada batalha, escolha de estilo de jogo, e construção de personagens (como builds e abordagens estratégicas) foram projetadas para proporcionar uma experiência verdadeiramente única.O aspecto que mais me impressionou foi a incrível capacidade do jogo de combinar variedade e qualidade. Não conheço outro título que consiga executar essa integração de maneira tão magistral. A trilha sonora, direção artística, design de cenários, criaturas e personagens não jogáveis (NPCs) mantêm um padrão extraordinário de excelência. Elden Ring não apenas oferece diversidade em conteúdo, mas também assegura que cada elemento esteja à altura da qualidade esperada de uma obra-prima. É uma experiência inesquecível, que define novos padrões para o gênero.',\n",
              " 'Elden Ring is a beautiful game that is well designed and filled a refined level of polish and care, there are many aspects of this game that the average developer would never even consider in terms of creating an open world of this scale and filling it with this many meaningful interactions, exploratory rewards and overall gameplay feel, however where they fell through was with the lack of idle animations. \\\\n\\\\nThe player character (Tarnished) has no idle animation for when people walk away from the their controller although the game istelf is filled with a number of animations for the tarnished to be able to complete at the press of a button a lack of idle waiting animation to help characterize the tarnished or at least as a small flourish for the player is abysmal especially considering the fact that this game is filled with a number of small things that many would overlook in such a large game. WIth people  going out of their way to design a mod for idle animations.\\\\n \\\\nQuite disappointed',\n",
              " 'Hidetaka Miyazaki c’est encore surpassé en nous offrant un jeu à monde ouvert hors du commun. \\\\nL’histoire, l’ambiance, le bestiaire ainsi que l’architecture, tout est là pour ceux qui aime les jeux avec une ambiance médiévale et exigeant. \\\\nJe recommande également l’excellent DLC avec une durée de vie plus grande que certains jeux, un vrai régal. \\\\nJe recommande totalement ce jeu ',\n",
              " 'He jugado toda la Saga Soul y este no me parece un mal juego, pero tampoco es ninguna panacea ni la mejor obra de Miyazaki tiene cosas criticables y otras que me encantan, una cosa que no entendí de el es que le costaba mencionar a Kentaro Miura cuando falleció algunos dirán se despidio a su manera dentro del juego otros dirán no tiene por qué despedirse...¿Disculpa? Eres una figura conocida tanto en el cine como en el Gaming, miyazaki no es Europeo es Japones (tienen otra forma de pensar) le debes respeto a un Sensei que te inspiro para crear tu fantasía, pero claro como ahora Elden ring es famoso tu posición de Artista Famoso te impide hacer mención no vaya a ser que la gente te quite merito a tu obra.',\n",
              " 'Masterful. This is a mix of all souls games until toda, and undoubtedly works',\n",
              " 'Wonderful world and attractive game. You can’t simply just leave the world of elden ring until you finish the game 2 times at least (generally I am the type of gamer who’s not really fan of playing the same game again).\\\\nThis game is different from all previous fromsoftware games: even if you’re not a hardcore darksouls player, you can manage to level up your character and make your own journey in the lands between.',\n",
              " 'Jogo maravilhoso, com uma exploração incrível que só por si é uma experiência única, a sensação incrível que é procurar as coisas pelo mapa, com essa ambientação incrível, o combate que é também uma delícia, e super bem feito, com bosses muito criativos e difíceis na medida certa\\\\n(Menção honrosa para Malenia, uma das melhores batalhas que já tive em um videogame)\\\\nE também os detalhes do jogo, tudo bem feitinho, um dos MELHORES jogos já feitos na HISTÓRIA',\n",
              " 'Early game review, will probably change it later\\\\nI’ve never been a fan of soulslike games, even after playing ds1 and demon’s souls, and I’m having open world fatigue thanks to Genshin Impact. With that being said, this game is amazing. The overworld exploration feels clean, smooth and definitely not empty. The combat system looks complex at first glance, but after some practice you start to understand all the mechanics needed, and even though I died a lot of times by now I still think the game itself is not as hard as other games, and getting used to it is pretty easy. Definitely recommend.',\n",
              " 'Le jeux est vraiment mal fait il est (dur) parce que il est mal fait il serait plus rapide et plus fluide il y aurais aucune difficulté rare sont les boss qui sont pas triplé il sont même pas très bien fait les zone sont horrible et pas amusant on joue tous au jeux parce ses FROMSOFTWARE sinon personne ne jouerais a se jeux complètement nul',\n",
              " 'It is, in my opinion, the best game available. I admit that I put off playing it for a considerable amount of time until my friend persuaded me to give it a try. Before I knew it, I had devoted more than 100 hours to the game. In my opinion, it is the best game ever created.']"
            ]
          },
          "metadata": {},
          "execution_count": 13
        }
      ]
    }
  ]
}