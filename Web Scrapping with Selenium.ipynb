{
  "nbformat": 4,
  "nbformat_minor": 0,
  "metadata": {
    "colab": {
      "provenance": []
    },
    "kernelspec": {
      "name": "python3",
      "display_name": "Python 3"
    },
    "language_info": {
      "name": "python"
    }
  },
  "cells": [
    {
      "cell_type": "code",
      "source": [
        "!pip install selenium"
      ],
      "metadata": {
        "colab": {
          "base_uri": "https://localhost:8080/"
        },
        "id": "M4MMVY0TOEvq",
        "outputId": "54943b92-f5f7-4edc-a88a-6a7f2c866157",
        "collapsed": true
      },
      "execution_count": 1,
      "outputs": [
        {
          "output_type": "stream",
          "name": "stdout",
          "text": [
            "Collecting selenium\n",
            "  Downloading selenium-4.27.1-py3-none-any.whl.metadata (7.1 kB)\n",
            "Requirement already satisfied: urllib3<3,>=1.26 in /usr/local/lib/python3.10/dist-packages (from urllib3[socks]<3,>=1.26->selenium) (2.2.3)\n",
            "Collecting trio~=0.17 (from selenium)\n",
            "  Downloading trio-0.28.0-py3-none-any.whl.metadata (8.5 kB)\n",
            "Collecting trio-websocket~=0.9 (from selenium)\n",
            "  Downloading trio_websocket-0.11.1-py3-none-any.whl.metadata (4.7 kB)\n",
            "Requirement already satisfied: certifi>=2021.10.8 in /usr/local/lib/python3.10/dist-packages (from selenium) (2024.12.14)\n",
            "Requirement already satisfied: typing_extensions~=4.9 in /usr/local/lib/python3.10/dist-packages (from selenium) (4.12.2)\n",
            "Requirement already satisfied: websocket-client~=1.8 in /usr/local/lib/python3.10/dist-packages (from selenium) (1.8.0)\n",
            "Requirement already satisfied: attrs>=23.2.0 in /usr/local/lib/python3.10/dist-packages (from trio~=0.17->selenium) (24.3.0)\n",
            "Collecting sortedcontainers (from trio~=0.17->selenium)\n",
            "  Downloading sortedcontainers-2.4.0-py2.py3-none-any.whl.metadata (10 kB)\n",
            "Requirement already satisfied: idna in /usr/local/lib/python3.10/dist-packages (from trio~=0.17->selenium) (3.10)\n",
            "Collecting outcome (from trio~=0.17->selenium)\n",
            "  Downloading outcome-1.3.0.post0-py2.py3-none-any.whl.metadata (2.6 kB)\n",
            "Requirement already satisfied: sniffio>=1.3.0 in /usr/local/lib/python3.10/dist-packages (from trio~=0.17->selenium) (1.3.1)\n",
            "Requirement already satisfied: exceptiongroup in /usr/local/lib/python3.10/dist-packages (from trio~=0.17->selenium) (1.2.2)\n",
            "Collecting wsproto>=0.14 (from trio-websocket~=0.9->selenium)\n",
            "  Downloading wsproto-1.2.0-py3-none-any.whl.metadata (5.6 kB)\n",
            "Requirement already satisfied: pysocks!=1.5.7,<2.0,>=1.5.6 in /usr/local/lib/python3.10/dist-packages (from urllib3[socks]<3,>=1.26->selenium) (1.7.1)\n",
            "Requirement already satisfied: h11<1,>=0.9.0 in /usr/local/lib/python3.10/dist-packages (from wsproto>=0.14->trio-websocket~=0.9->selenium) (0.14.0)\n",
            "Downloading selenium-4.27.1-py3-none-any.whl (9.7 MB)\n",
            "\u001b[2K   \u001b[90m━━━━━━━━━━━━━━━━━━━━━━━━━━━━━━━━━━━━━━━━\u001b[0m \u001b[32m9.7/9.7 MB\u001b[0m \u001b[31m61.3 MB/s\u001b[0m eta \u001b[36m0:00:00\u001b[0m\n",
            "\u001b[?25hDownloading trio-0.28.0-py3-none-any.whl (486 kB)\n",
            "\u001b[2K   \u001b[90m━━━━━━━━━━━━━━━━━━━━━━━━━━━━━━━━━━━━━━━━\u001b[0m \u001b[32m486.3/486.3 kB\u001b[0m \u001b[31m19.9 MB/s\u001b[0m eta \u001b[36m0:00:00\u001b[0m\n",
            "\u001b[?25hDownloading trio_websocket-0.11.1-py3-none-any.whl (17 kB)\n",
            "Downloading wsproto-1.2.0-py3-none-any.whl (24 kB)\n",
            "Downloading outcome-1.3.0.post0-py2.py3-none-any.whl (10 kB)\n",
            "Downloading sortedcontainers-2.4.0-py2.py3-none-any.whl (29 kB)\n",
            "Installing collected packages: sortedcontainers, wsproto, outcome, trio, trio-websocket, selenium\n",
            "Successfully installed outcome-1.3.0.post0 selenium-4.27.1 sortedcontainers-2.4.0 trio-0.28.0 trio-websocket-0.11.1 wsproto-1.2.0\n"
          ]
        }
      ]
    },
    {
      "cell_type": "code",
      "source": [
        "!apt-get install chromium-driver"
      ],
      "metadata": {
        "colab": {
          "base_uri": "https://localhost:8080/"
        },
        "collapsed": true,
        "id": "N6cnlD_RThcI",
        "outputId": "8fa8237e-11b3-466b-b75a-6adee54d62b9"
      },
      "execution_count": 2,
      "outputs": [
        {
          "output_type": "stream",
          "name": "stdout",
          "text": [
            "Reading package lists... Done\n",
            "Building dependency tree... Done\n",
            "Reading state information... Done\n",
            "Note, selecting 'chromium-chromedriver' instead of 'chromium-driver'\n",
            "The following additional packages will be installed:\n",
            "  apparmor chromium-browser libfuse3-3 liblzo2-2 libudev1 snapd squashfs-tools systemd-hwe-hwdb\n",
            "  udev\n",
            "Suggested packages:\n",
            "  apparmor-profiles-extra apparmor-utils fuse3 zenity | kdialog\n",
            "The following NEW packages will be installed:\n",
            "  apparmor chromium-browser chromium-chromedriver libfuse3-3 liblzo2-2 snapd squashfs-tools\n",
            "  systemd-hwe-hwdb udev\n",
            "The following packages will be upgraded:\n",
            "  libudev1\n",
            "1 upgraded, 9 newly installed, 0 to remove and 48 not upgraded.\n",
            "Need to get 30.2 MB of archives.\n",
            "After this operation, 123 MB of additional disk space will be used.\n",
            "Get:1 http://archive.ubuntu.com/ubuntu jammy-updates/main amd64 apparmor amd64 3.0.4-2ubuntu2.4 [598 kB]\n",
            "Get:2 http://archive.ubuntu.com/ubuntu jammy/main amd64 liblzo2-2 amd64 2.10-2build3 [53.7 kB]\n",
            "Get:3 http://archive.ubuntu.com/ubuntu jammy/main amd64 squashfs-tools amd64 1:4.5-3build1 [159 kB]\n",
            "Get:4 http://archive.ubuntu.com/ubuntu jammy-updates/main amd64 libudev1 amd64 249.11-0ubuntu3.12 [78.2 kB]\n",
            "Get:5 http://archive.ubuntu.com/ubuntu jammy-updates/main amd64 udev amd64 249.11-0ubuntu3.12 [1,557 kB]\n",
            "Get:6 http://archive.ubuntu.com/ubuntu jammy/main amd64 libfuse3-3 amd64 3.10.5-1build1 [81.2 kB]\n",
            "Get:7 http://archive.ubuntu.com/ubuntu jammy-updates/main amd64 snapd amd64 2.66.1+22.04 [27.6 MB]\n",
            "Get:8 http://archive.ubuntu.com/ubuntu jammy-updates/universe amd64 chromium-browser amd64 1:85.0.4183.83-0ubuntu2.22.04.1 [49.2 kB]\n",
            "Get:9 http://archive.ubuntu.com/ubuntu jammy-updates/universe amd64 chromium-chromedriver amd64 1:85.0.4183.83-0ubuntu2.22.04.1 [2,308 B]\n",
            "Get:10 http://archive.ubuntu.com/ubuntu jammy-updates/main amd64 systemd-hwe-hwdb all 249.11.5 [3,228 B]\n",
            "Fetched 30.2 MB in 0s (64.5 MB/s)\n",
            "Preconfiguring packages ...\n",
            "Selecting previously unselected package apparmor.\n",
            "(Reading database ... 123634 files and directories currently installed.)\n",
            "Preparing to unpack .../apparmor_3.0.4-2ubuntu2.4_amd64.deb ...\n",
            "Unpacking apparmor (3.0.4-2ubuntu2.4) ...\n",
            "Selecting previously unselected package liblzo2-2:amd64.\n",
            "Preparing to unpack .../liblzo2-2_2.10-2build3_amd64.deb ...\n",
            "Unpacking liblzo2-2:amd64 (2.10-2build3) ...\n",
            "Selecting previously unselected package squashfs-tools.\n",
            "Preparing to unpack .../squashfs-tools_1%3a4.5-3build1_amd64.deb ...\n",
            "Unpacking squashfs-tools (1:4.5-3build1) ...\n",
            "Preparing to unpack .../libudev1_249.11-0ubuntu3.12_amd64.deb ...\n",
            "Unpacking libudev1:amd64 (249.11-0ubuntu3.12) over (249.11-0ubuntu3.10) ...\n",
            "Setting up libudev1:amd64 (249.11-0ubuntu3.12) ...\n",
            "Selecting previously unselected package udev.\n",
            "(Reading database ... 123842 files and directories currently installed.)\n",
            "Preparing to unpack .../udev_249.11-0ubuntu3.12_amd64.deb ...\n",
            "Unpacking udev (249.11-0ubuntu3.12) ...\n",
            "Selecting previously unselected package libfuse3-3:amd64.\n",
            "Preparing to unpack .../libfuse3-3_3.10.5-1build1_amd64.deb ...\n",
            "Unpacking libfuse3-3:amd64 (3.10.5-1build1) ...\n",
            "Selecting previously unselected package snapd.\n",
            "Preparing to unpack .../snapd_2.66.1+22.04_amd64.deb ...\n",
            "Unpacking snapd (2.66.1+22.04) ...\n",
            "Setting up apparmor (3.0.4-2ubuntu2.4) ...\n",
            "Created symlink /etc/systemd/system/sysinit.target.wants/apparmor.service → /lib/systemd/system/apparmor.service.\n",
            "Setting up liblzo2-2:amd64 (2.10-2build3) ...\n",
            "Setting up squashfs-tools (1:4.5-3build1) ...\n",
            "Setting up udev (249.11-0ubuntu3.12) ...\n",
            "invoke-rc.d: could not determine current runlevel\n",
            "invoke-rc.d: policy-rc.d denied execution of start.\n",
            "Setting up libfuse3-3:amd64 (3.10.5-1build1) ...\n",
            "Setting up snapd (2.66.1+22.04) ...\n",
            "Created symlink /etc/systemd/system/multi-user.target.wants/snapd.apparmor.service → /lib/systemd/system/snapd.apparmor.service.\n",
            "Created symlink /etc/systemd/system/multi-user.target.wants/snapd.autoimport.service → /lib/systemd/system/snapd.autoimport.service.\n",
            "Created symlink /etc/systemd/system/multi-user.target.wants/snapd.core-fixup.service → /lib/systemd/system/snapd.core-fixup.service.\n",
            "Created symlink /etc/systemd/system/multi-user.target.wants/snapd.recovery-chooser-trigger.service → /lib/systemd/system/snapd.recovery-chooser-trigger.service.\n",
            "Created symlink /etc/systemd/system/multi-user.target.wants/snapd.seeded.service → /lib/systemd/system/snapd.seeded.service.\n",
            "Created symlink /etc/systemd/system/cloud-final.service.wants/snapd.seeded.service → /lib/systemd/system/snapd.seeded.service.\n",
            "Unit /lib/systemd/system/snapd.seeded.service is added as a dependency to a non-existent unit cloud-final.service.\n",
            "Created symlink /etc/systemd/system/multi-user.target.wants/snapd.service → /lib/systemd/system/snapd.service.\n",
            "Created symlink /etc/systemd/system/timers.target.wants/snapd.snap-repair.timer → /lib/systemd/system/snapd.snap-repair.timer.\n",
            "Created symlink /etc/systemd/system/sockets.target.wants/snapd.socket → /lib/systemd/system/snapd.socket.\n",
            "Created symlink /etc/systemd/system/final.target.wants/snapd.system-shutdown.service → /lib/systemd/system/snapd.system-shutdown.service.\n",
            "Selecting previously unselected package chromium-browser.\n",
            "(Reading database ... 124071 files and directories currently installed.)\n",
            "Preparing to unpack .../chromium-browser_1%3a85.0.4183.83-0ubuntu2.22.04.1_amd64.deb ...\n",
            "=> Installing the chromium snap\n",
            "==> Checking connectivity with the snap store\n",
            "===> System doesn't have a working snapd, skipping\n",
            "Unpacking chromium-browser (1:85.0.4183.83-0ubuntu2.22.04.1) ...\n",
            "Selecting previously unselected package chromium-chromedriver.\n",
            "Preparing to unpack .../chromium-chromedriver_1%3a85.0.4183.83-0ubuntu2.22.04.1_amd64.deb ...\n",
            "Unpacking chromium-chromedriver (1:85.0.4183.83-0ubuntu2.22.04.1) ...\n",
            "Selecting previously unselected package systemd-hwe-hwdb.\n",
            "Preparing to unpack .../systemd-hwe-hwdb_249.11.5_all.deb ...\n",
            "Unpacking systemd-hwe-hwdb (249.11.5) ...\n",
            "Setting up systemd-hwe-hwdb (249.11.5) ...\n",
            "Setting up chromium-browser (1:85.0.4183.83-0ubuntu2.22.04.1) ...\n",
            "update-alternatives: using /usr/bin/chromium-browser to provide /usr/bin/x-www-browser (x-www-browser) in auto mode\n",
            "update-alternatives: using /usr/bin/chromium-browser to provide /usr/bin/gnome-www-browser (gnome-www-browser) in auto mode\n",
            "Setting up chromium-chromedriver (1:85.0.4183.83-0ubuntu2.22.04.1) ...\n",
            "Processing triggers for udev (249.11-0ubuntu3.12) ...\n",
            "Processing triggers for hicolor-icon-theme (0.17-2) ...\n",
            "Processing triggers for libc-bin (2.35-0ubuntu3.4) ...\n",
            "/sbin/ldconfig.real: /usr/local/lib/libtbbbind_2_0.so.3 is not a symbolic link\n",
            "\n",
            "/sbin/ldconfig.real: /usr/local/lib/libtcm.so.1 is not a symbolic link\n",
            "\n",
            "/sbin/ldconfig.real: /usr/local/lib/libtbbbind_2_5.so.3 is not a symbolic link\n",
            "\n",
            "/sbin/ldconfig.real: /usr/local/lib/libtbbmalloc.so.2 is not a symbolic link\n",
            "\n",
            "/sbin/ldconfig.real: /usr/local/lib/libhwloc.so.15 is not a symbolic link\n",
            "\n",
            "/sbin/ldconfig.real: /usr/local/lib/libur_adapter_opencl.so.0 is not a symbolic link\n",
            "\n",
            "/sbin/ldconfig.real: /usr/local/lib/libur_adapter_level_zero.so.0 is not a symbolic link\n",
            "\n",
            "/sbin/ldconfig.real: /usr/local/lib/libtcm_debug.so.1 is not a symbolic link\n",
            "\n",
            "/sbin/ldconfig.real: /usr/local/lib/libtbbmalloc_proxy.so.2 is not a symbolic link\n",
            "\n",
            "/sbin/ldconfig.real: /usr/local/lib/libtbbbind.so.3 is not a symbolic link\n",
            "\n",
            "/sbin/ldconfig.real: /usr/local/lib/libtbb.so.12 is not a symbolic link\n",
            "\n",
            "/sbin/ldconfig.real: /usr/local/lib/libur_loader.so.0 is not a symbolic link\n",
            "\n",
            "/sbin/ldconfig.real: /usr/local/lib/libumf.so.0 is not a symbolic link\n",
            "\n",
            "Processing triggers for man-db (2.10.2-1) ...\n",
            "Processing triggers for dbus (1.12.20-2ubuntu4.1) ...\n"
          ]
        }
      ]
    },
    {
      "cell_type": "code",
      "source": [
        "from selenium import webdriver\n",
        "from selenium.webdriver.common.by import By"
      ],
      "metadata": {
        "id": "ZzSsi5nHBYXt"
      },
      "execution_count": 3,
      "outputs": []
    },
    {
      "cell_type": "code",
      "source": [
        "# defining a user agent\n",
        "user_agent_string = 'Mozilla/5.0 (Windows NT 10.0; Win64; x64) AppleWebKit/537.36 (KHTML, like Gecko) Chrome/119.0.0.0 Safari/537.36'"
      ],
      "metadata": {
        "id": "H9UOcpJ_8DCL"
      },
      "execution_count": 4,
      "outputs": []
    },
    {
      "cell_type": "code",
      "source": [
        "def web_driver():\n",
        "    options = webdriver.ChromeOptions()\n",
        "    options.add_argument(\"--verbose\")\n",
        "    options.add_argument('--no-sandbox')\n",
        "    options.add_argument('--headless')\n",
        "    options.add_argument('--disable-gpu')\n",
        "    options.add_argument(\"--window-size=1920, 1200\")\n",
        "    options.add_argument('--disable-dev-shm-usage')\n",
        "    options.add_argument(f\"user-agent={user_agent_string}\")\n",
        "    driver = webdriver.Chrome(options=options)\n",
        "    return driver"
      ],
      "metadata": {
        "id": "w9LlD1T1T_A5"
      },
      "execution_count": 5,
      "outputs": []
    },
    {
      "cell_type": "code",
      "source": [
        "driver = web_driver()\n",
        "\n",
        "url = 'https://www.metacritic.com/game/elden-ring/user-reviews/?platform=playstation-5'\n",
        "\n",
        "# get html\n",
        "driver.get(url)\n",
        "\n",
        "# Find all <div> elements with the class name 'c-siteReview_quote'\n",
        "quote_divs = driver.find_elements(By.CLASS_NAME, 'c-siteReview_quote')\n",
        "\n",
        "# Loop through each <div> and extract the text from the <span>\n",
        "quotes = []\n",
        "for div in quote_divs:\n",
        "    span_text = div.find_element(By.TAG_NAME, 'span').text\n",
        "    quotes.append(span_text)\n",
        "\n",
        "# Print all extracted quotes\n",
        "for i, quote in enumerate(quotes, start=1):\n",
        "    print(f\"Quote {i}: {quote}\")\n",
        "\n",
        "# Close the WebDriver\n",
        "driver.quit()"
      ],
      "metadata": {
        "colab": {
          "base_uri": "https://localhost:8080/"
        },
        "id": "MjUuWAy3Aq-x",
        "outputId": "b4bd93ac-f8ca-4808-836a-c98bbbd89d4e"
      },
      "execution_count": 6,
      "outputs": [
        {
          "output_type": "stream",
          "name": "stdout",
          "text": [
            "Quote 1: enfin un vrai jeu avec challenge, pas trop de bug ca donne envie de l'acheter\n",
            "Quote 2: Bad game hard and devs don’t care about it and only thing it has is combat which gets super boring after a while\n",
            "Quote 3: Es un juego mundo abierto y es el mejor soul Jajajajjajajajajajajaajajjaajajajjaajjajajajajajajajajajajjaajajjajajajajaajaj\n",
            "Quote 4: I can't understand those who say 2022 god of war was right. God of war is never a bad game but it is very faithful to its essence. Elden ring is a game that feels both innovative and great.\n",
            "Quote 5: The first souls game ever that I had the nerves and energy to finish. It's not bad, that's for sure. But like all the souls games it is insanely overhyped in my opinion. For a 10/10 open world game there are too many things missing. There might be a story, but after 60 hours of play time I have pretty much no idea of what was happening other than me becoming the \"Elden Lord\" after slaying about 40 bosses with the same jump attack strategy. Also I don't think it's an indicator **** single player game when I have to read ten guides online and watch multiple youtube videos in order to understand the builds or basically how almost anything in this game even works on a basic level. Would give this a 7/10 but will give it a 6 to counteract the crazy fanboyism and overhype from so many people here.\n",
            "Quote 6: Phenomenal, the world is so big and there are so much to explore and endure, but the reward is always (like every soulslike) the biggest satisfaction.\n",
            "Quote 7: Graphics gameplay story all are great and i got the game for cheap and it's worth more.\n",
            "Quote 8: Got this game to play with friends, but the multiplayer allowed players to invade into your multiplayer and attack you. If I wanted a pvp game would have gotten one specially for that. As a single player its a good game but for multiplayer it total trash.\n",
            "Quote 9: Masterpiece game, bad FPS on PS5. Unplayable if you played it on PC and are used to a certain FPS quality smoothness.\n",
            "Quote 10: Masterpiece! Easily one of the most enjoyable games to be created In the past decade fore sure!\n",
            "Quote 11: One of the best games, if not the best, in the Souls genre. Captivating and enigmatic story, by far an adventure that will remain with me. Varieties of incredible builds and bosses. The best.\n",
            "Quote 12: Atmosphäre, Waffenvielfalt, build Möglichkeit, Spielwelt, alles wirklich super. Mein Einstieg in Souls Spiele\n",
            "Quote 13: This is the most disgustingly overrated game I've played in 25 years of gaming. It's a janky, dated, uninspired dark souls rip off - there are 10,000,000 games identical to this. The only reason anyone likes this is because Elon Musk told them to. It's a pointless, boring, poorly made, the graphics looks straight out of 2012 and the combat feels like **** compared to other dark souls rip offs like Wu Kong.\n",
            "Quote 14: Elden Ring carries the \"Souls\" legacy into a visually-appealing open world that practically begs to be explored. The inclusion of the same tedious combat mechanics and clunky interface from earlier games is disappointing, but if you've never played one of FROM's artificially difficult hack-and-slash action titles, then ER is probably the most inviting entry point. Ignore the incoherent \"story\" and lack of helpful information in-game, crack open a wiki, and prepare to die many deaths before you find a playstyle that works for you. There is fun to be found in Elden Ring, but digging it up can take some serious effort, a varied approach, and all too many hours of repetitive game loops.\n",
            "Quote 15: Un des mes jeux préférés. Je l'ai fait à plusieurs reprises. L'œuvre de Miyazaki nous plonge dans un jeux vidéos riches sur tout les plans. Tout d'abord, on peut citer la bande-son qui est subliminal, on peut notamment faire référence à l'OST du combat de radahn, radagon ou encore Godfrey. De même,Hidetaka Miyazaki expose ici aux joueurs un lore énorme composé d'un nombre incalculable de détails, comme le passé de l'univers avec les Dragons-Anciens et Placidusax le seigneur des dragons. On apprend une immensité de chose à travers le lore comme l'assassinat de Godwyn commit par Ranni, l'histoire de Vyke, les malédiction des 3 enfants issus de Marika et Radagon. Bref, tout ce que j'ai cité ne définit même pas 1% du lore. Aussi, le gameplay est très bien gérer pour le joueur, la manière dont le jeu force l'apprentissage des paternes en créer une satisfaction, de même on peut compter un nombre incalculable d'armes, de sorts et pleins d'autres mécaniques. La manière dont les combats sont fait génère un dynamisme de gameplay. Les quêtes sont multiples et intéressantes mais assez mal guidés, mais cela fait partie de l'essence même des souls. Les graphismes sont pas révolutionnaire mais celle-ci est en cohésion avec le design du jeu qui en fait de lui un jeu magnifique. En autre, Elden Ring possède un nombre incalculable de points positifs qui prendrait un temps fou à citer. Une expérience à vivre.\n",
            "Quote 16: TLDR: Yes the game is amazing, with epic fights, a larger scale to its story and with really tough endgame bosses!This game is everything fans loved about the series but brought to the open world. The combat feels as good as ever, with quick responses to your inputs and nice flow and feeling of weight overall. With a variety of classes to choose from, and playstyles that suit every player this game can be as easy or as hard as you want it to be. From summons to spirit NPC ashes, you can choose whether to fight solo or with an ally. There is one bossfight where I definitely recommend using summons and that's the Godskin Duo. Now on the story side of ****'S MINDBLOWNLINGLY EPIC! Overall it makes you feel like you're rising up to the top becoming stronger and stronger, culminating in an epic final **** the negatives now...Some classes and builds are way better than others, making fights hilariously easy but again that's up to the player. I didn't involve myself in the PVP so no comments on that. A lot of assets are re-used but I kind of expected that in a game as massive as this. Lastly, a lot of the bosses in the late game are really hard, not allowing the player with a window of opportunity for a counter attack and with endgame damage stats, the fights become really hard and are a matter of patience. But overall I don't have anything major to say in regard to the bad aspects of the ****: The music in certain bossfights just gives me chills(Mohg, Lord of Blood cough cough)\n",
            "Quote 17: جميلة جدا أتطلع إلى أن العبها إن شاء الله مع إني خائف من صعوبتها وشكرا يعطيكم العافية\n",
            "Quote 18: Um... I ate my words. I previously really talked **** and disliked this game. But it gets really good, like really fun. Just a couple of problems. This game is NOT beginner friendly at all. I had to use guides to mostly play the game which sort of ruined the fun a bit for me, but it wasn't a super bad thing nonetheless. Good game, but improvements can be made.\n",
            "Quote 19: Elden Ring ist ein Meisterwerk, das die Grenzen des Open-World-Genres neu definiert. FromSoftware hat mit diesem Spiel ein Universum geschaffen, das so lebendig und detailreich ist, dass man sich stundenlang darin verlieren kann. Die Welt ist voller Geheimnisse, die es zu entdecken gilt, und die Lore ist so tiefgründig, dass sie immer wieder neue Interpretationen zulässt. Das Spielerlebnis ist herausfordernd, aber fair. Jeder Sieg fühlt sich verdient an und trägt dazu bei, dass man sich mit seiner Spielfigur identifizieren kann. Die Bosskämpfe sind episch und fordern sowohl Geschick als auch Geduld. Elden Ring ist ein Spiel, das sowohl erfahrene Souls-Veteranen als auch Neulinge gleichermaßen begeistern wird. English summary: Elden Ring is a masterpiece that redefines the open-world genre. FromSoftware has crafted a universe that is so vibrant and detailed that it's easy to lose yourself for hours on end. The world is full of secrets to discover, and the lore is so deep that it allows for endless interpretation. The gameplay is challenging but fair. Every victory feels earned and helps you connect with your character. The boss fights are epic and demand both skill and patience. Elden Ring is a game that will delight both seasoned Souls veterans and newcomers alike.\n",
            "Quote 20: You will spend 8 hours trying to leave the starting area and never get anywhere. I can honestly say this is the worst game I've ever spent money on and I can't say enough bad things about it.\n",
            "Quote 21: I really wanted to like this game, but just 5 hours in all I can say is that I regret buying it (although I got it on sale, it still stings). - Story feels non-existent - Atmosphere is depressing - No music while you play - Progression is super slow - Graphics look old - Loot drops are 99% garbage - Controls and inventory management are poor - Crafting is pointless - Armour and Weapon upgrades don’t matter - Combat is slow and clunky - Open world feels empty - Game feels hard on purpose to mask that it’s not a fun game - Boss fights are fun, but that’s about it All you do is go around killing things to save up “Runes” (XP) to cash in for levelling up, and you never actually feel any stronger. I have 5 hours into it, watched a few hours of videos to see if I was “missing something” or “not playing it properly”, and can quite confidently say this game isn’t for me, and I can’t understand why it won GOTY and gets such high review scores. I guess games journalists just don’t represent me any more, given the last few years.\n",
            "Quote 22: There's too much input delay. You'd expect the character to jump exactly when you press the jump button, but unlike any other game, they only start to jump after the button is released. Too bad!\n",
            "Quote 23: Elden ring has good world design, tons of content, great customization, but really poor boss fights and mini dungeons that weigh it down for a solo player. If you enjoyed previous fromsoft games you’ll likely enjoy most of what Elden ring has to offer, especially early on. The World is just enormous compared to previous titles in terms of space and easily on par in terms of zones. The combat is very similar with new special moves added to allow for greater variety and speed. The zones are generally fun to explore (albeit the size makes the main open world zones tedious). The legacy dungeons are fun and interesting with branching and puzzles. Bosses are largely just not fun to fight. They are far too aggressive unless you use multiplayer/summons which tend to make them easier than you would like. This leads to you either spending time waiting out combos to look for a tiny opening window where you don’t have time to use most interesting skills or to hit them while their attention is on someone else. The latter doesn’t give much satisfaction to many players. Mini dungeons have the same problem as chalice dungeons from blood borne. They all feel samey and boring with a few exceptions. NPC quest lines are enjoyable, but difficult to find and follow in the open world. Overall there’s a lot to enjoy, but I personally feel like the game drags really badly the later you get with boss fights getting more frequent. Each successive one just wears rather than brings joy. I’ve not gotten this feeling from any other fromsoft title, nor many of the more popular Derivative titles. In the end you’ll get your money’s worth of fun and playtime, but may end up with a bitter feeling about it.\n",
            "Quote 24: MASTERPIECE. This is FromSoftwares best game and it’s not even close. Elden Ring offers a huge world all for you to explore, when you explore you may find one of the 414 weapons in the game or one of the 141 different **** Elden Ring there are over 300 bosses and also the most difficult and best designed bosses in fromsoftware history.\n",
            "Quote 25: unfassbares Spiel! Riesen open World, zahlreiche Bossfights, tausende Builds.\n",
            "Quote 26: This game isn’t a master piece like everyone says. It has a few BIG problems. For example your character moves like in demon souls, yet the bosses move like it’s sekiro. (Which by the way sekiro is objectively THE best fromsoft game. It has a focused and rewarding system (the parry system) along with a new element, the grapple. If I took every fromsoft game and stripped the color from them and put them side by side you would not be able to tell the difference. Except sekiro. now the next problem is the game doesn’t actually improve at all? It seems they spent three years just making the map? Lmao. I was expecting something as unique and as fun as sekiro OR something as refined as lies of p. LoP is also the second best fromsoft game, that’s not made by fromsoft. The only really negative reviews on the game are just saying it’s more of a “refinement not an improvement” or that “they copied fromsoft” and fromsoft copied ninja gaiden. What’s your point? that’s exactly what it is, and it does it extremely well. Lies of p takes Essentially the best thing from every from soft game and puts it in one game. Along with a more understandable story and its own unique theme and gameplay/ combat systems. I was expecting far more out of Elden ring yet it falls short unfortunately. I tried playing the game so many times and I really just tried to like it, but it’s simply a literal copy and paste of DS3. That goes for pretty much most fromsoft games. If you have played one fromsoft game, you basically played them all. And unfortunately they are the most toxic players in video games if you try to tell them that they’re buying the same game every year like COD, they will gang up and you and start **** on each other lol. Proof of this is the success of lies of p. round8 studio made a game far better than pretty much anything put out by fromsoft and the only people hating were fromsoft ****. We all know if from soft put out lies of P they would be praising and **** it off lol. They buy the same game every year. Then turn around and make fun of Ubisoft and Activision….. The irony lol. In Elden ring especially Malenia. she has a certain move set called the waterfall dance or something like that. She and a few others are a perfect example of poorly made game decisions and boss moveset. That certain movement is CLEARLY A copy out of sekiro and meant to be parryied, yet it’s not parryable. They essentially copied boss moves from sekiro, giving bosses, sekiro boss like movement and patterns. while giving the actual player dark souls 1 movement you see similar problems in one of the most recent call of duty games, And why copying things from other games doesn’t always work. In the newest Mw3 2023 they took over a decade old maps that is designed with positioning and slow movement in mind from the OG mw2 and ported it in a game where you get across the map in literally 4 seconds….. essentially destroying any actually positioning or strongholds on the map. That would be the main fight locations for players. And this goes for every map. Was really excited, expecting something NEW from fromsoftware like sekiro. Unfortunately this is what we got. Not to mention game looks like a early ps4 game or late ps3 game. The game also plays in 60fps on ps5, but for some reason the game looks like it moves in a choppy 40. Like it’s having microstutters or something. It’s probably their engine as it feels they have been using the same ps3 engine the whole time or something. Overall it’s not a bad game, but realistically it’s a 7-8/10\n",
            "Quote 27: They say nothing is perfect, well Elden Ring is pretty darn close. This is the greatest game ever made. Not for the weak, only the strong will survive. A beautiful haunting adventure awaits you.\n",
            "Quote 28: A less fun version of Breath of the Wild. World was fun to explore, but the map becomes cluttered really fast. After a couple quests, this game just feels like a chore, with really unbalanced enemies. Sad to put this down, because everyone else seemed to like it.\n",
            "Quote 29: واقعا بی نظیر حرف ندار من که پسندیدم امیدوارم همچین ژانر های بیشتر منتشر بشه\n",
            "Quote 30: After 550 hours i can say its the best videogame ever made. ️️️️️ So many ways to play it.\n",
            "Quote 31: Uno de los mejores juegos de todos los tiempos jamás creados, gracias al sr Miyazaki por esta granobra\n",
            "Quote 32: Deserved GOTY for 2022 for sure. It is definitely the best game so far this decade. The hidden story, the addicting gameplay and overall just the mechanics are so good. I love how this game is like Dark Souls but also more adventure-y. The exploring part is my favorite part of this game, if you choose to just explore that one random part of the cave, you might just find an interesting piece of lore about the world of Elden Ring, or if you choose to explore the dungeons that are the catacombs, you will find other interesting pieces about the world. Overall, this game is the best of this decade, next to God of War: Ragnarok. Definitely an 11/10 in my books.\n",
            "Quote 33: You are now experiencing one of things created in mankind, excellence so high that it ascends its niche. Elden Ring holy s tier.\n",
            "Quote 34: DEFINITELY deserved GOTY 2022, and is also one of the best games ever made. FromSoftware for sure knows how to cook. If there was a Game of the decade award, then Elden Ring would probably win it.\n",
            "Quote 35: Absolute Peak game, absolutely deserved 2022 game of the year and has hundreds of hours of gameplay.\n",
            "Quote 36: this game is good and i would give it atleast a 6.5 cause of the beauty of this game the lore aswell the cool diffrent weapons if it hadnt this much propaganda this game is not even close to a masterpiece and this game literally is the definition of propaganda from streamers.Most overrated game of all time\n",
            "Quote 37: Ótimo jogo mundo aberto perfeito, inimigos com designer supriendente só tem 1 ponto negativos alguns Boss são muitos repetidos resumindo um dos melhores jogos de todos os tempos\n",
            "Quote 38: eldenring is by far the best videogame I've played in a very long time and I feel the best from software game ever. The game is most definitely worth your money and the dlc even though it is hard is very fun too.\n",
            "Quote 39: Il miglior gioco di sempre soprattutto dopo il **** prendere come esempio di come si fa un videogioco.\n",
            "Quote 40: i initially got elden ring from my friend back in january, and like most people i got mad and quit after 1 session. when i redownloaded the game 10 months later, i gave it a real shot, and i just recently 100% beat the game on steam. this games lore is phenomenal, some of fromsoft's best. i loved my first playthrough so much, i did it 4 more times, and im on ng+5 with the same character with 111 hours of playtime. every ending was great (lord of frenzied flame included) and the questlines to get the individual ones were amazing. my only complaint is you dont get a great sense of direction through the game, with no quest bar or something to indicate where you need to go or who you need to meet. some could argue it adds intrigue to the game, but for me it just made it a bit more confusing. nevertheless, i had a wonderful time with elden ring and if its on sale or you're looking for a challenge, i implore you to buy it\n",
            "Quote 41: Elden ringwas the missing piece in my puzzle while I had played FromSoftware games before I just couldnt bring myself to like them. Until this masterpiece released it had everything exploration,lore,variety and amazing level and character design. Of course by being an open world game it means that the Tarnished can explore almost every bit of the map making any boss easier by finding just the right gear. Truly my favourite game of all time with a masterful DLC to go with it. Recommend everyone to play it and experience the masterpiece that is Elden Ring\n",
            "Quote 42: I waited long before buying the game and the DLC, I always thoughtit was overrated, and with too much hype around it. I was so incredibly wrong, that's by far the best game I have ever played, insane world build, amazing and challenging enemies, incredible weapons, armours, spells, and NPCs' interactions. 10/10\n",
            "Quote 43: Após concluir e platinar Elden Ring, posso afirmar com convicção que este é, sem dúvida, um dos melhores jogos que já tive a oportunidade de jogar. Elden Ring transcendeu minhas expectativas, especialmente ao demonstrar como uma história pode ser narrada de maneira envolvente mesmo quando não é apresentada de forma convencional. A integração entre narrativa e cenários, seja no aspecto visual ou temático, impacta diretamente a experiência de jogo, elevando-a a um nível excepcional. Cada batalha, escolha de estilo de jogo, e construção de personagens (como builds e abordagens estratégicas) foram projetadas para proporcionar uma experiência verdadeiramente única.O aspecto que mais me impressionou foi a incrível capacidade do jogo de combinar variedade e qualidade. Não conheço outro título que consiga executar essa integração de maneira tão magistral. A trilha sonora, direção artística, design de cenários, criaturas e personagens não jogáveis (NPCs) mantêm um padrão extraordinário de excelência. Elden Ring não apenas oferece diversidade em conteúdo, mas também assegura que cada elemento esteja à altura da qualidade esperada de uma obra-prima. É uma experiência inesquecível, que define novos padrões para o gênero.\n",
            "Quote 44: Elden Ring is a beautiful game that is well designed and filled a refined level of polish and care, there are many aspects of this game that the average developer would never even consider in terms of creating an open world of this scale and filling it with this many meaningful interactions, exploratory rewards and overall gameplay feel, however where they fell through was with the lack of idle animations. The player character (Tarnished) has no idle animation for when people walk away from the their controller although the game istelf is filled with a number of animations for the tarnished to be able to complete at the press of a button a lack of idle waiting animation to help characterize the tarnished or at least as a small flourish for the player is abysmal especially considering the fact that this game is filled with a number of small things that many would overlook in such a large game. WIth people going out of their way to design a mod for idle animations. Quite disappointed\n",
            "Quote 45: Hidetaka Miyazaki c’est encore surpassé en nous offrant un jeu à monde ouvert hors du commun. L’histoire, l’ambiance, le bestiaire ainsi que l’architecture, tout est là pour ceux qui aime les jeux avec une ambiance médiévale et exigeant. Je recommande également l’excellent DLC avec une durée de vie plus grande que certains jeux, un vrai régal. Je recommande totalement ce jeu\n",
            "Quote 46: He jugado toda la Saga Soul y este no me parece un mal juego, pero tampoco es ninguna panacea ni la mejor obra de Miyazaki tiene cosas criticables y otras que me encantan, una cosa que no entendí de el es que le costaba mencionar a Kentaro Miura cuando falleció algunos dirán se despidio a su manera dentro del juego otros dirán no tiene por qué despedirse...¿Disculpa? Eres una figura conocida tanto en el cine como en el Gaming, miyazaki no es Europeo es Japones (tienen otra forma de pensar) le debes respeto a un Sensei que te inspiro para crear tu fantasía, pero claro como ahora Elden ring es famoso tu posición de Artista Famoso te impide hacer mención no vaya a ser que la gente te quite merito a tu obra.\n",
            "Quote 47: Masterful. This is a mix of all souls games until toda, and undoubtedly works\n",
            "Quote 48: Wonderful world and attractive game. You can’t simply just leave the world of elden ring until you finish the game 2 times at least (generally I am the type of gamer who’s not really fan of playing the same game again). This game is different from all previous fromsoftware games: even if you’re not a hardcore darksouls player, you can manage to level up your character and make your own journey in the lands between.\n",
            "Quote 49: Jogo maravilhoso, com uma exploração incrível que só por si é uma experiência única, a sensação incrível que é procurar as coisas pelo mapa, com essa ambientação incrível, o combate que é também uma delícia, e super bem feito, com bosses muito criativos e difíceis na medida certa (Menção honrosa para Malenia, uma das melhores batalhas que já tive em um videogame) E também os detalhes do jogo, tudo bem feitinho, um dos MELHORES jogos já feitos na HISTÓRIA\n",
            "Quote 50: Early game review, will probably change it later I’ve never been a fan of soulslike games, even after playing ds1 and demon’s souls, and I’m having open world fatigue thanks to Genshin Impact. With that being said, this game is amazing. The overworld exploration feels clean, smooth and definitely not empty. The combat system looks complex at first glance, but after some practice you start to understand all the mechanics needed, and even though I died a lot of times by now I still think the game itself is not as hard as other games, and getting used to it is pretty easy. Definitely recommend.\n"
          ]
        }
      ]
    }
  ]
}