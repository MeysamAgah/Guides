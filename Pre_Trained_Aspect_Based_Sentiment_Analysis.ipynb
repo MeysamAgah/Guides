{
  "nbformat": 4,
  "nbformat_minor": 0,
  "metadata": {
    "colab": {
      "provenance": []
    },
    "kernelspec": {
      "name": "python3",
      "display_name": "Python 3"
    },
    "language_info": {
      "name": "python"
    }
  },
  "cells": [
    {
      "cell_type": "code",
      "source": [
        "from transformers import AutoTokenizer, AutoModelForSeq2SeqLM\n",
        "\n",
        "import warnings\n",
        "warnings.filterwarnings('ignore')"
      ],
      "metadata": {
        "id": "ZjRkv_d_Cujb"
      },
      "execution_count": 1,
      "outputs": []
    },
    {
      "cell_type": "code",
      "source": [
        "tokenizer = AutoTokenizer.from_pretrained(\"kevinscaria/joint_tk-instruct-base-def-pos-neg-neut-combined\")\n",
        "model = AutoModelForSeq2SeqLM.from_pretrained(\"kevinscaria/joint_tk-instruct-base-def-pos-neg-neut-combined\")"
      ],
      "metadata": {
        "id": "vavEQ7wYCwi4"
      },
      "execution_count": 2,
      "outputs": []
    },
    {
      "cell_type": "code",
      "source": [
        "bos_instruction = \"\"\"Definition: The output will be the aspects (both implicit and explicit) and the aspects sentiment polarity. In cases where there are no aspects the output should be noaspectterm:none.\n",
        "    Positive example 1-\n",
        "    input: I charge it at night and skip taking the cord with me because of the good battery life.\n",
        "    output: battery life:positive,\n",
        "    Positive example 2-\n",
        "    input: I even got my teenage son one, because of the features that it offers, like, iChat, Photobooth, garage band and more!.\n",
        "    output: features:positive, iChat:positive, Photobooth:positive, garage band:positive\n",
        "    Negative example 1-\n",
        "    input: Speaking of the browser, it too has problems.\n",
        "    output: browser:negative\n",
        "    Negative example 2-\n",
        "    input: The keyboard is too slick.\n",
        "    output: keyboard:negative\n",
        "    Neutral example 1-\n",
        "    input: I took it back for an Asus and same thing- blue screen which required me to remove the battery to reset.\n",
        "    output: battery:neutral\n",
        "    Neutral example 2-\n",
        "    input: Nightly my computer defrags itself and runs a virus scan.\n",
        "    output: virus scan:neutral\n",
        "    Now complete the following example-\n",
        "    input: \"\"\"\n",
        "delim_instruct = ''\n",
        "eos_instruct = ' \\noutput:'\n",
        "text = 'gameplay is boring but I loved story'"
      ],
      "metadata": {
        "id": "8sLhSVFoDG6s"
      },
      "execution_count": 3,
      "outputs": []
    },
    {
      "cell_type": "code",
      "source": [
        "tokenized_text = tokenizer(bos_instruction + text + delim_instruct + eos_instruct, return_tensors=\"pt\")\n",
        "output = model.generate(tokenized_text.input_ids)\n",
        "print('Model output: ', tokenizer.decode(output[0], skip_special_tokens=True))"
      ],
      "metadata": {
        "colab": {
          "base_uri": "https://localhost:8080/"
        },
        "id": "__N85ao8Cy3R",
        "outputId": "3b2a0d0e-bc9a-4f80-bb0c-6bf58f61647e"
      },
      "execution_count": 4,
      "outputs": [
        {
          "output_type": "stream",
          "name": "stdout",
          "text": [
            "Model output:  gameplay:negative, story:positive\n"
          ]
        }
      ]
    }
  ]
}